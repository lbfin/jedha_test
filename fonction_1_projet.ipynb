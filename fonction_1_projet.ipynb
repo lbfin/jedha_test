{
 "cells": [
  {
   "cell_type": "markdown",
   "id": "82fcda45-595c-4737-9448-4bdfa00c1755",
   "metadata": {},
   "source": [
    "Description du fichier\n"
   ]
  },
  {
   "cell_type": "code",
   "execution_count": null,
   "id": "0cffeb0c-8c7c-44f5-9372-618e9fd44ea2",
   "metadata": {},
   "outputs": [],
   "source": [
    "a=2"
   ]
  }
 ],
 "metadata": {
  "kernelspec": {
   "display_name": "Python 3 (ipykernel)",
   "language": "python",
   "name": "python3"
  },
  "language_info": {
   "codemirror_mode": {
    "name": "ipython",
    "version": 3
   },
   "file_extension": ".py",
   "mimetype": "text/x-python",
   "name": "python",
   "nbconvert_exporter": "python",
   "pygments_lexer": "ipython3",
   "version": "3.9.7"
  }
 },
 "nbformat": 4,
 "nbformat_minor": 5
}
